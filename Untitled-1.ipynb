{
 "cells": [
  {
   "cell_type": "markdown",
   "metadata": {},
   "source": [
    "# Portfolio Exercise 4, Methods 3, 2021, autumn semester\n",
    "Alina Kereszt\n",
    "\n",
    "13.12.2021"
   ]
  },
  {
   "cell_type": "markdown",
   "metadata": {},
   "source": [
    "**NB! The code contained within this portfolio was developed by the study group in collaboration (Mie Søgaard (M.S.), Linus Backström (L.B.), Mikkel Kristensen (M.K.), Alina Kereszt (A.K.)). The overall responsible individual for each section is indicated with initials in the beginning. Variables, code organization and explanations may vary between the study group members as they are individually created, as well as members may have additional material in their portfolio.**\n",
    "\n",
    "# Exercises and objectives\n",
    "\n",
    "1) Use principal component analysis to improve the classification of subjective experience  \n",
    "2) Use logistic regression with cross-validation to find the optimal number of principal components  \n",
    "\n",
    "\n",
    "REMEMBER: In your report, make sure to include code that can reproduce the answers requested in the exercises below (__MAKE A KNITTED VERSION__)  \n",
    "REMEMBER: This is Assignment 4 and will be part of your final portfolio"
   ]
  },
  {
   "cell_type": "code",
   "execution_count": 1,
   "metadata": {},
   "outputs": [],
   "source": [
    "# load packages\n",
    "import os\n",
    "import numpy as np\n",
    "import matplotlib.pyplot as plt\n",
    "from sklearn.preprocessing import StandardScaler\n",
    "import seaborn as sns\n",
    "from sklearn.linear_model import LogisticRegression\n",
    "from sklearn.model_selection import cross_val_score, StratifiedKFold\n",
    "from sklearn.decomposition import PCA\n",
    "import warnings\n",
    "warnings.filterwarnings('ignore')\n",
    "np.random.seed(420)"
   ]
  },
  {
   "cell_type": "markdown",
   "metadata": {},
   "source": [
    "## EXERCISE 1 - Use principal component analysis to improve the classification of subjective experience\n",
    "\n",
    "We will use the same files as we did in Assignment 3\n",
    "The files `megmag_data.npy` and `pas_vector.npy` can be downloaded here (http://laumollerandersen.org/data_methods_3/megmag_data.npy) and here (http://laumollerandersen.org/data_methods_3/pas_vector.npy)  \n",
    "The function `equalize_targets` is supplied - this time, we will only work with an equalized data set. One motivation for this is that we have a well-defined chance level that we can compare against. Furthermore, we will look at a single time point to decrease the dimensionality of the problem  \n",
    "\n",
    "### 1) Create a covariance matrix, find the eigenvectors and the eigenvalues (M.S.)\n",
    "**i. Load `megmag_data.npy` and call it `data` using `np.load`. You can use `join`, which can be imported from `os.path`, to create paths from different string segments** "
   ]
  },
  {
   "cell_type": "code",
   "execution_count": 2,
   "metadata": {},
   "outputs": [
    {
     "ename": "FileNotFoundError",
     "evalue": "[Errno 2] No such file or directory: 'megmag_data.npy'",
     "output_type": "error",
     "traceback": [
      "\u001b[1;31m---------------------------------------------------------------------------\u001b[0m",
      "\u001b[1;31mFileNotFoundError\u001b[0m                         Traceback (most recent call last)",
      "\u001b[1;32m~\\AppData\\Local\\Temp/ipykernel_2656/4191638546.py\u001b[0m in \u001b[0;36m<module>\u001b[1;34m\u001b[0m\n\u001b[1;32m----> 1\u001b[1;33m \u001b[0mdata\u001b[0m \u001b[1;33m=\u001b[0m \u001b[0mnp\u001b[0m\u001b[1;33m.\u001b[0m\u001b[0mload\u001b[0m\u001b[1;33m(\u001b[0m\u001b[1;34m'megmag_data.npy'\u001b[0m\u001b[1;33m)\u001b[0m\u001b[1;33m\u001b[0m\u001b[1;33m\u001b[0m\u001b[0m\n\u001b[0m\u001b[0;32m      2\u001b[0m \u001b[0my\u001b[0m \u001b[1;33m=\u001b[0m \u001b[0mnp\u001b[0m\u001b[1;33m.\u001b[0m\u001b[0mload\u001b[0m\u001b[1;33m(\u001b[0m\u001b[1;34m'pas_vector.npy'\u001b[0m\u001b[1;33m)\u001b[0m \u001b[1;31m# load data\u001b[0m\u001b[1;33m\u001b[0m\u001b[1;33m\u001b[0m\u001b[0m\n",
      "\u001b[1;32m~\\miniconda3\\envs\\methods3\\lib\\site-packages\\numpy\\lib\\npyio.py\u001b[0m in \u001b[0;36mload\u001b[1;34m(file, mmap_mode, allow_pickle, fix_imports, encoding)\u001b[0m\n\u001b[0;32m    415\u001b[0m             \u001b[0mown_fid\u001b[0m \u001b[1;33m=\u001b[0m \u001b[1;32mFalse\u001b[0m\u001b[1;33m\u001b[0m\u001b[1;33m\u001b[0m\u001b[0m\n\u001b[0;32m    416\u001b[0m         \u001b[1;32melse\u001b[0m\u001b[1;33m:\u001b[0m\u001b[1;33m\u001b[0m\u001b[1;33m\u001b[0m\u001b[0m\n\u001b[1;32m--> 417\u001b[1;33m             \u001b[0mfid\u001b[0m \u001b[1;33m=\u001b[0m \u001b[0mstack\u001b[0m\u001b[1;33m.\u001b[0m\u001b[0menter_context\u001b[0m\u001b[1;33m(\u001b[0m\u001b[0mopen\u001b[0m\u001b[1;33m(\u001b[0m\u001b[0mos_fspath\u001b[0m\u001b[1;33m(\u001b[0m\u001b[0mfile\u001b[0m\u001b[1;33m)\u001b[0m\u001b[1;33m,\u001b[0m \u001b[1;34m\"rb\"\u001b[0m\u001b[1;33m)\u001b[0m\u001b[1;33m)\u001b[0m\u001b[1;33m\u001b[0m\u001b[1;33m\u001b[0m\u001b[0m\n\u001b[0m\u001b[0;32m    418\u001b[0m             \u001b[0mown_fid\u001b[0m \u001b[1;33m=\u001b[0m \u001b[1;32mTrue\u001b[0m\u001b[1;33m\u001b[0m\u001b[1;33m\u001b[0m\u001b[0m\n\u001b[0;32m    419\u001b[0m \u001b[1;33m\u001b[0m\u001b[0m\n",
      "\u001b[1;31mFileNotFoundError\u001b[0m: [Errno 2] No such file or directory: 'megmag_data.npy'"
     ]
    }
   ],
   "source": [
    "data = np.load('megmag_data.npy') \n",
    "y = np.load('pas_vector.npy') # load data"
   ]
  },
  {
   "cell_type": "markdown",
   "metadata": {},
   "source": [
    "**ii. Equalize the number of targets in `y` and `data` using `equalize_targets`**"
   ]
  },
  {
   "cell_type": "markdown",
   "metadata": {},
   "source": [
    "def equalize_targets(data, y):\n",
    "    np.random.seed(7)\n",
    "    targets = np.unique(y)\n",
    "    counts = list()\n",
    "    indices = list()\n",
    "    for target in targets:\n",
    "        counts.append(np.sum(y == target))\n",
    "        indices.append(np.where(y == target)[0])\n",
    "    min_count = np.min(counts)\n",
    "    first_choice = np.random.choice(indices[0], size=min_count, replace=False)\n",
    "    second_choice = np.random.choice(indices[1], size=min_count, replace=False)\n",
    "    third_choice = np.random.choice(indices[2], size=min_count, replace=False)\n",
    "    fourth_choice = np.random.choice(indices[3], size=min_count, replace=False)\n",
    "    \n",
    "    new_indices = np.concatenate((first_choice, second_choice,\n",
    "                                 third_choice, fourth_choice))\n",
    "    new_y = y[new_indices]\n",
    "    new_data = data[new_indices, :, :]\n",
    "    \n",
    "    return new_data, new_y\n",
    "  \n",
    "equalized = equalize_targets(data, y)\n",
    "X_equal = equalized[0]\n",
    "y_equal = equalized[1]"
   ]
  },
  {
   "cell_type": "markdown",
   "metadata": {},
   "source": [
    "**iii. Construct `times=np.arange(-200, 804, 4)` and find the index corresponding to 248 ms - then reduce the dimensionality of `data` from three to two dimensions by only choosing the time index corresponding to 248 ms (248 ms was where we found the maximal average response in Assignment 3)** "
   ]
  },
  {
   "cell_type": "code",
   "execution_count": null,
   "metadata": {},
   "outputs": [],
   "source": [
    "times = np.arange(-200, 804, 4)\n",
    "index_248ms = np.where(times == 248)\n",
    "X_248ms = X_equal[:, :, index_248ms[0]]\n",
    "X_248ms = np.reshape(X_248ms, (396, 102)) # the shape was a bit weird, \n",
    "# had to remove an extra dimension with no values"
   ]
  },
  {
   "cell_type": "markdown",
   "metadata": {},
   "source": [
    "**iv. Scale the data using `StandardScaler`**  "
   ]
  },
  {
   "cell_type": "code",
   "execution_count": null,
   "metadata": {},
   "outputs": [],
   "source": [
    "sc = StandardScaler()\n",
    "X_248ms_std = sc.fit_transform(X_248ms)"
   ]
  },
  {
   "cell_type": "markdown",
   "metadata": {},
   "source": [
    "**v. Calculate the sample covariance matrix for the sensors (you can use `np.cov`) and plot it (either using `plt.imshow` or `sns.heatmap` (`import seaborn as sns`))** "
   ]
  },
  {
   "cell_type": "code",
   "execution_count": null,
   "metadata": {},
   "outputs": [],
   "source": [
    "covmat = np.cov(X_248ms_std, rowvar = False)\n",
    "\n",
    "plt.figure()\n",
    "sns.heatmap(covmat, square = True) \n",
    "plt.show()"
   ]
  },
  {
   "cell_type": "markdown",
   "metadata": {},
   "source": [
    "**vi. What does the off-diagonal activation imply about the independence of the signals measured by the 102 sensors?**  \n",
    "\n",
    "It implies that the measurements by the sensors are not entirely independent of each other, meaning that if we took the measurements from all sensors into account, we would be modeling a significant amount of noise (and thereby hurting our prediction accuracy).\n",
    "\n",
    "**vii. Run `np.linalg.matrix_rank` on the covariance matrix - what integer value do you get? (we'll use this later)**  "
   ]
  },
  {
   "cell_type": "code",
   "execution_count": null,
   "metadata": {},
   "outputs": [],
   "source": [
    "# matrix rank is the number of linearly independent rows or \n",
    "# columns in the matrix\n",
    "matrix_rank = np.linalg.matrix_rank(covmat)\n",
    "matrix_rank"
   ]
  },
  {
   "cell_type": "markdown",
   "metadata": {},
   "source": [
    "**viii. Find the eigenvalues and eigenvectors of the covariance matrix using `np.linalg.eig` - note that some of the numbers returned are complex numbers, consisting of a real and an imaginary part (they have a _j_ next to them). We are going to ignore this by only looking at the real parts of the eigenvectors and -values. Use `np.real` to retrieve only the real parts**  "
   ]
  },
  {
   "cell_type": "code",
   "execution_count": null,
   "metadata": {},
   "outputs": [],
   "source": [
    "# Eigenvalues and eigenvectors are basically just a decomposition \n",
    "# of a square matrix; in essence you break the matrix down into \n",
    "# its constituent parts so that it it easier to perform operations \n",
    "# on it\n",
    "# One such operation is the reduction of dimensionality, i.e. \n",
    "# removing variables that are just noise\n",
    "eigenvalues, eigenvectors = np.linalg.eig(covmat)\n",
    "# eigen = np.linalg.eig(covmat)\n",
    "# eigenvalues = eigen[0]\n",
    "# eigenvectors = eigen[1]\n",
    "eigenvalues = np.real(eigenvalues)\n",
    "eigenvectors = np.real(eigenvectors)"
   ]
  },
  {
   "cell_type": "markdown",
   "metadata": {},
   "source": [
    "### 2) Create the weighting matrix $W$ and the projected data, $Z$ (L.B.)\n",
    "**i. We need to sort the eigenvectors and eigenvalues according to the absolute values of the eigenvalues (use `np.abs` on the eigenvalues).**  "
   ]
  },
  {
   "cell_type": "code",
   "execution_count": null,
   "metadata": {},
   "outputs": [],
   "source": [
    "eigenvalues_abs = np.abs(eigenvalues) # find the absolute \n",
    "# values of the eigenvalues"
   ]
  },
  {
   "cell_type": "markdown",
   "metadata": {},
   "source": [
    "**ii. Then, we will find the correct ordering of the indices and create an array, e.g. `sorted_indices` that contains these indices. We want to sort the values from highest to lowest. For that, use `np.argsort`, which will find the indices that correspond to sorting the values from lowest to highest. Subsequently, use `np.flip`, which will reverse the order of the indices.**  "
   ]
  },
  {
   "cell_type": "code",
   "execution_count": null,
   "metadata": {},
   "outputs": [],
   "source": [
    "# 'np.argsort' is an indirect sort; it sorts the indices \n",
    "# of the values rather than the values themselves\n",
    "sorted_indices = np.argsort(eigenvalues_abs)\n",
    "sorted_indices = np.flip(sorted_indices)"
   ]
  },
  {
   "cell_type": "markdown",
   "metadata": {},
   "source": [
    "**iii. Finally, create arrays of sorted eigenvalues and eigenvectors using the `sorted_indices` array just created. For the eigenvalues, it should like this `eigenvalues = eigenvalues[sorted_indices]` and for the eigenvectors: `eigenvectors = eigenvectors[:, sorted_indices]`**"
   ]
  },
  {
   "cell_type": "code",
   "execution_count": null,
   "metadata": {},
   "outputs": [],
   "source": [
    "eigenvalues = eigenvalues[sorted_indices]"
   ]
  },
  {
   "cell_type": "markdown",
   "metadata": {},
   "source": [
    "**iv. Plot the log, `np.log`, of the eigenvalues, `plt.plot(np.log(eigenvalues), 'o')` - are there some values that stand out from the rest? In fact, 5 (noise) dimensions have already been projected out of the data - how does that relate to the matrix rank (Exercise 1.1.vii)** "
   ]
  },
  {
   "cell_type": "code",
   "execution_count": null,
   "metadata": {},
   "outputs": [],
   "source": [
    "np.log(eigenvalues) # demonstrate that 4 eigenvalues do not \n",
    "# have a natural logarithm"
   ]
  },
  {
   "cell_type": "code",
   "execution_count": null,
   "metadata": {},
   "outputs": [],
   "source": [
    "plt.figure()\n",
    "plt.plot(np.log(eigenvalues), 'o', markersize = 1)\n",
    "plt.show()"
   ]
  },
  {
   "cell_type": "markdown",
   "metadata": {},
   "source": [
    "When evaluating matrix rank, we found that there were 97 linearly independent rows or columns in the matrix, i.e. 102 - 97 = 5 that *aren't* linearly independent - the measurements from that sensor correlate perfectly with the measurements from another sensor. This is also illustrated by taking the natural logarithm of the eigenvalues: 4 eigenvalues are negative, meaning that they do not possess a natural logarithm, while the 5th has a natural logarithm that is significantly different from that of the other eigenvalues.\n",
    "\n",
    "**v. Create the weighting matrix, `W` (it is the sorted eigenvectors)** "
   ]
  },
  {
   "cell_type": "code",
   "execution_count": null,
   "metadata": {},
   "outputs": [],
   "source": [
    "W = eigenvectors[:, sorted_indices]"
   ]
  },
  {
   "cell_type": "markdown",
   "metadata": {},
   "source": [
    "**vi. Create the projected data, `Z`, $Z = XW$ - (you can check you did everything right by checking whether the $X$ you get from $X = ZW^T$ is equal to your original $X$, `np.isclose` may be of help)**"
   ]
  },
  {
   "cell_type": "code",
   "execution_count": null,
   "metadata": {},
   "outputs": [],
   "source": [
    "Z = X_248ms_std @ W\n",
    "\n",
    "# verify that I have done it correctly\n",
    "X_check = Z @ W.T\n",
    "check = np.isclose(X_248ms_std, X_check)\n",
    "np.unique(check) # only matches - yay!"
   ]
  },
  {
   "cell_type": "markdown",
   "metadata": {},
   "source": [
    "**vii. Create a new covariance matrix of the principal components (n = 102) - plot it! What has happened off-diagonal and why?**"
   ]
  },
  {
   "cell_type": "code",
   "execution_count": null,
   "metadata": {},
   "outputs": [],
   "source": [
    "covmat2 = np.cov(Z, rowvar = False)\n",
    "\n",
    "plt.figure()\n",
    "sns.heatmap(covmat2, square = True)\n",
    "plt.show()"
   ]
  },
  {
   "cell_type": "markdown",
   "metadata": {},
   "source": [
    "There is no longer any covariance between the dimensions off-diagonal (the vectors for each principal component have been multiplied by the sorted eigenvectors, yielding a dot product of 0). \n",
    "\n",
    "## EXERCISE 2 - Use logistic regression with cross-validation to find the optimal number of principal components  \n",
    "### 1) We are going to run logistic regression with in-sample validation (A.K.)\n",
    "**i. First, run standard logistic regression (no regularization) based on $Z_{d \\times k}$ and `y` (the target vector). Fit (`.fit`) 102 models based on: $k = [1, 2, ..., 101, 102]$ and $d = 102$. For each fit get the classification accuracy, (`.score`), when applied to $Z_{d \\times k}$ and $y$. This is an in-sample validation. Use the solver `newton-cg` if the default solver doesn't converge**"
   ]
  },
  {
   "cell_type": "code",
   "execution_count": null,
   "metadata": {},
   "outputs": [],
   "source": [
    "logR = LogisticRegression(penalty = 'none', solver = 'newton-cg')\n",
    "scores = np.zeros(shape = (102))\n",
    "for i in range(102):\n",
    "  if i == 0:\n",
    "    X = Z[:, 0]\n",
    "    X = X.reshape(-1, 1)\n",
    "  elif i == 102:\n",
    "    X = Z[:, :]\n",
    "  else:\n",
    "    X = Z[:, 0 : i + 1] # python is a bit fussy about ranges \n",
    "    # and couldn't deal with the first and last 'i' on its own\n",
    "  logm = logR.fit(X, y_equal)\n",
    "  score = logm.score(X, y_equal)\n",
    "  scores[i] = score"
   ]
  },
  {
   "cell_type": "markdown",
   "metadata": {},
   "source": [
    "**ii. Make a plot with the number of principal components on the _x_-axis and classification accuracy on the _y_-axis - what is the general trend and why is this so?**"
   ]
  },
  {
   "cell_type": "code",
   "execution_count": null,
   "metadata": {},
   "outputs": [],
   "source": [
    "plt.figure()\n",
    "plt.plot(scores, color = 'm')\n",
    "plt.xlabel('Number of principal components')\n",
    "plt.ylabel('Classification accuracy')\n",
    "plt.show()"
   ]
  },
  {
   "cell_type": "markdown",
   "metadata": {},
   "source": [
    "Classification accuracy generally increases as we add more components. Since we are validating our model in-sample (we aren't testing generalizability to a new dataset), overfitting is not penalized and more dimensions conform better to the data.\n",
    "\n",
    "**iii. In terms of classification accuracy, what is the effect of adding the five last components? Why do you think this is so?**"
   ]
  },
  {
   "cell_type": "code",
   "execution_count": null,
   "metadata": {},
   "outputs": [],
   "source": [
    "scores[-6:-1] # retrieve the scores for the regressions \n",
    "# involving the last 5 components"
   ]
  },
  {
   "cell_type": "markdown",
   "metadata": {},
   "source": [
    "The classification accuracy does not increase when adding the last five components. This is because they are linearly dependent on other components, and therefore don't supply any extra information.\n",
    "\n",
    "### 2) Now, we are going to use cross-validation - we are using `cross_val_score` and `StratifiedKFold` from `sklearn.model_selection` (M.S.)\n",
    "**i. Define the variable: `cv = StratifiedKFold()` and run `cross_val_score` (remember to set the `cv` argument to your created `cv` variable). Use the same `estimator` in `cross_val_score` as in Exercise 2.1.i. Find the mean score over the 5 folds (the default of `StratifiedKFold`) for each $k$, $k = [1, 2, ..., 101, 102]$**  "
   ]
  },
  {
   "cell_type": "code",
   "execution_count": null,
   "metadata": {},
   "outputs": [],
   "source": [
    "logR = LogisticRegression(penalty = 'none', solver = 'newton-cg')\n",
    "cv = StratifiedKFold(n_splits = 5)\n",
    "\n",
    "scores = np.zeros(shape = (102))\n",
    "for i in range(102):\n",
    "  if i == 0:\n",
    "    X = Z[:, 0]\n",
    "    X = X.reshape(-1, 1)\n",
    "  elif i == 102:\n",
    "    X = Z[:, :]\n",
    "  else:\n",
    "    X = Z[:, 0 : i + 1] # python is a bit fussy about ranges \n",
    "    # and couldn't deal with the first and last 'i' on its own\n",
    "  logm = logR.fit(X, y_equal)\n",
    "  score = cross_val_score(logm, X, y_equal, cv = cv)\n",
    "  mean = np.mean(score) # take average of the 5 folds\n",
    "  scores[i] = mean"
   ]
  },
  {
   "cell_type": "markdown",
   "metadata": {},
   "source": [
    "**ii. Make a plot with the number of principal components on the _x_-axis and classification accuracy on the _y_-axis - how is this plot different from the one in Exercise 2.1.ii?**"
   ]
  },
  {
   "cell_type": "code",
   "execution_count": null,
   "metadata": {},
   "outputs": [],
   "source": [
    "plt.figure()\n",
    "plt.plot(scores, color = 'm')\n",
    "plt.xlabel('Number of principal components')\n",
    "plt.ylabel('Classification accuracy')\n",
    "plt.show()"
   ]
  },
  {
   "cell_type": "markdown",
   "metadata": {},
   "source": [
    "Here, after the addition of a certain amount of principal components, classification accuracy actually diminishes. This is because we are now splitting our data into training and validation sets, 5 times, thereby making sure that the model can be generalized to new data. Overfitting by adding an excess amount of principal components is thereby penalized: the model has to represent the general trends in the data, rather than conform to each individual data point.\n",
    "\n",
    "**iii. What is the number of principal components, $k_{max\\_accuracy}$, that results in the greatest classification accuracy when cross-validated?** "
   ]
  },
  {
   "cell_type": "code",
   "execution_count": null,
   "metadata": {},
   "outputs": [],
   "source": [
    "max_accuracy_index = np.argmax(scores)\n",
    "max_accuracy_index + 1 # since index 0 denotes 1 component, \n",
    "# index 15 denotes 16 components"
   ]
  },
  {
   "cell_type": "markdown",
   "metadata": {},
   "source": [
    "**iv. How many percentage points is the classification accuracy increased with relative to the to the full-dimensional, $d$, dataset**"
   ]
  },
  {
   "cell_type": "code",
   "execution_count": null,
   "metadata": {},
   "outputs": [],
   "source": [
    "scores[max_accuracy_index] - scores[-1]"
   ]
  },
  {
   "cell_type": "markdown",
   "metadata": {},
   "source": [
    "The classification accuracy increased by 7.8 percentage points.\n",
    "\n",
    "**v. How do the analyses in Exercises 2.1 and 2.2 differ from one another? Make sure to comment on the differences in optimization criteria.**\n",
    "\n",
    "In Exercise 2.1, the model is optimized to best represent the data that is available. Validation is done in-sample, i.e. performed on the data that was used to create the model, which means that overfitting isn't penalized.\n",
    "\n",
    "In Exercise 2.2, the model is optimized to be generalizable to new data. With cross-validation, we split the data into an equal number of folds, always successively reserving one fold to use for validation and fitting the model on the remaining folds; i.e. in a sense, we are validating the model out-of-sample, on new data. Overfitting is thus penalized.\n",
    "    \n",
    "### 3) We now make the assumption that $k_{max\\_accuracy}$ is representative for each time sample (we only tested for 248 ms). We will use the PCA implementation from _scikit-learn_, i.e. import `PCA` from `sklearn.decomposition`. (M.K.)\n",
    "\n",
    "**i. For __each__ of the 251 time samples, use the same estimator and cross-validation as in Exercises 2.1.i and 2.2.i. Run two analyses - one where you reduce the dimensionality to $k_{max\\_accuracy}$ dimensions using `PCA` and one where you use the full data. Remember to scale the data (for now, ignore if you get some convergence warnings - you can try to increase the number of iterations, but this is not obligatory)** "
   ]
  },
  {
   "cell_type": "code",
   "execution_count": null,
   "metadata": {},
   "outputs": [],
   "source": [
    "# MAX ACCURACY\n",
    "pca = PCA(n_components = 15)\n",
    "scores_max = np.zeros(shape = (251))\n",
    "logR = LogisticRegression(penalty = 'none', solver = 'newton-cg')\n",
    "cv = StratifiedKFold(n_splits = 5)\n",
    "sc = StandardScaler()\n",
    "\n",
    "for i in range(251):\n",
    "  X_time = X_equal[:, :, i]\n",
    "  X_time_std = sc.fit_transform(X_time)\n",
    "  X_pca = pca.fit_transform(X_time_std)\n",
    "  logm = logR.fit(X_pca, y_equal)\n",
    "  score = cross_val_score(logm, X_pca, y_equal, cv = cv)\n",
    "  mean = np.mean(score)\n",
    "  scores_max[i] = mean\n",
    "\n",
    "# ALL THE DATA\n",
    "scores_all = np.zeros(shape = (251))\n",
    "logR = LogisticRegression(penalty = 'none', solver = 'newton-cg')\n",
    "cv = StratifiedKFold(n_splits = 5)\n",
    "sc = StandardScaler()\n",
    "\n",
    "for i in range(251):\n",
    "  X_time = X_equal[:, :, i]\n",
    "  X_time_std = sc.fit_transform(X_time)\n",
    "  logm = logR.fit(X_time_std, y_equal)\n",
    "  score = cross_val_score(logm, X_time_std, y_equal, cv = cv)\n",
    "  mean = np.mean(score)\n",
    "  scores_all[i] = mean"
   ]
  },
  {
   "cell_type": "markdown",
   "metadata": {},
   "source": [
    "**ii. Plot the classification accuracies for each time sample for the analysis with PCA and for the one without in the same plot. Have time (ms) on the _x_-axis and classification accuracy on the _y_-axis**"
   ]
  },
  {
   "cell_type": "code",
   "execution_count": null,
   "metadata": {},
   "outputs": [],
   "source": [
    "plt.figure()\n",
    "plt.plot(times, scores_max, color = 'c', linewidth = .5)\n",
    "plt.plot(times, scores_all, color = 'm', linewidth = .5)\n",
    "plt.axvline(x = 0, color = 'g', linestyle = ':')\n",
    "plt.axvline(x = 400, color = 'g', linestyle = ':')\n",
    "plt.title('Classification accuracy by timestamp with and without PCA')\n",
    "plt.xlabel('Time')\n",
    "plt.ylabel('Classification accuracy')\n",
    "plt.legend(['With PCA', 'Without PCA']\n",
    "plt.show()"
   ]
  },
  {
   "cell_type": "markdown",
   "metadata": {},
   "source": [
    "**iii. Describe the differences between the two analyses - focus on the time interval between 0 ms and 400 ms - describe in your own words why the logistic regression performs better on the PCA-reduced dataset around the peak magnetic activity**\n",
    "\n",
    "Since we are optimizing this model to be generalizable to new data, it is important that it capture the general trends in the data rather than be overfitted. By conducting principle component analysis (PCA), we can find the components that are most influential in describing these general trends; to add less components would be to discard useful information, but to add more would be to introduce noise and risk fitting the model to this noise.\n",
    "\n",
    "It overall seems that the PCA-reduced dataset performs better on the time interval between 0 ms and 400 ms; this is true in particular around the peak magnetic activity, as this is the timepoint at which the analysis was conducted."
   ]
  }
 ],
 "metadata": {
  "interpreter": {
   "hash": "339bcdd7df34ffb8076ce37b1581d23c26da35c3eba72c11dc1e1488bf6bd12d"
  },
  "kernelspec": {
   "display_name": "Python 3.9.7 64-bit ('methods3': conda)",
   "language": "python",
   "name": "python3"
  },
  "language_info": {
   "codemirror_mode": {
    "name": "ipython",
    "version": 3
   },
   "file_extension": ".py",
   "mimetype": "text/x-python",
   "name": "python",
   "nbconvert_exporter": "python",
   "pygments_lexer": "ipython3",
   "version": "3.9.7"
  },
  "orig_nbformat": 4
 },
 "nbformat": 4,
 "nbformat_minor": 2
}
