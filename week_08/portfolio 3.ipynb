{
 "cells": [
  {
   "cell_type": "markdown",
   "metadata": {},
   "source": [
    "---\n",
    "title: \"practical_exercise_8 , Methods 3, 2021, autumn semester\"\n",
    "author: 'Alina Kereszt'\n",
    "date: \"17.11.2021\"\n",
    "output: pdf_document\n",
    "---\n",
    "\n",
    "<style type=\"text/css\">\n",
    "  body{\n",
    "  font-size: 14pt;\n",
    "}\n",
    "</style>\n",
    "\n",
    "\n",
    "# Exercises and objectives\n",
    "\n",
    "1) Load the magnetoencephalographic recordings and do some initial plots to understand the data  \n",
    "2) Do logistic regression to classify pairs of PAS-ratings  \n",
    "3) Do a Support Vector Machine Classification on all four PAS-ratings  \n",
    "\n",
    "REMEMBER: In your report, make sure to include code that can reproduce the answers requested in the exercises below (__MAKE A KNITTED VERSION__)  \n",
    "REMEMBER: This is Assignment 3 and will be part of your final portfolio   "
   ]
  },
  {
   "cell_type": "code",
   "execution_count": null,
   "metadata": {},
   "outputs": [],
   "source": [
    "# load packages\n",
    "import os\n",
    "import numpy as np"
   ]
  },
  {
   "cell_type": "markdown",
   "metadata": {},
   "source": [
    "# EXERCISE 1 - Load the magnetoencephalographic recordings and do some initial plots to understand the data  \n",
    "\n",
    "The files `megmag_data.npy` and `pas_vector.npy` can be downloaded here (http://laumollerandersen.org/data_methods_3/megmag_data.npy) and here (http://laumollerandersen.org/data_methods_3/pas_vector.npy)   \n",
    "\n",
    "1) Load `megmag_data.npy` and call it `data` using `np.load`. You can use `join`, which can be imported from `os.path`, to create paths from different string segments"
   ]
  },
  {
   "cell_type": "code",
   "execution_count": null,
   "metadata": {},
   "outputs": [],
   "source": [
    "# 'join' creates a handy, quick way to refer to a particular path, so you don't have to keep typing it out\n",
    "# path = '~/GitHub/Coding/Methods 3/week_08'\n",
    "# path = os.path.join(path, 'megmag_data.npy')\n",
    "\n",
    "data = np.load('megmag_data.npy') # load data"
   ]
  },
  {
   "cell_type": "markdown",
   "metadata": {},
   "source": [
    "    i. The data is a 3-dimensional array. The first dimension is number of repetitions of a visual stimulus , the second dimension is the number of sensors that record magnetic fields (in Tesla) that stem from neurons activating in the brain, and the third dimension is the number of time samples. How many repetitions, sensors and time samples are there? "
   ]
  },
  {
   "cell_type": "code",
   "execution_count": null,
   "metadata": {},
   "outputs": [],
   "source": [
    "data.shape # show shape of data; it is a téglatest!!!"
   ]
  },
  {
   "cell_type": "code",
   "execution_count": null,
   "metadata": {},
   "outputs": [],
   "source": [
    "    ii. The time range is from (and including) -200 ms to (and including) 800 ms with a sample recorded every 4 ms. At time 0, the visual stimulus was briefly presented. Create a 1-dimensional array called `times` that represents this.  "
   ]
  },
  {
   "cell_type": "code",
   "execution_count": null,
   "metadata": {},
   "outputs": [],
   "source": [
    "# In Python, you can refer to specific components of an element with square brackets ([])\n",
    "# Specifying '0' means you don't want to extract anything from that dimension\n",
    "# A colon (:) means you want everything\n",
    "# You can also specify"
   ]
  }
 ],
 "metadata": {
  "language_info": {
   "name": "python"
  },
  "orig_nbformat": 4
 },
 "nbformat": 4,
 "nbformat_minor": 2
}
